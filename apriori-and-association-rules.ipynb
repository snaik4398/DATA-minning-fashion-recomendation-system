{
 "cells": [
  {
   "cell_type": "markdown",
   "id": "c4bd7c93",
   "metadata": {
    "papermill": {
     "duration": 0.022379,
     "end_time": "2022-03-04T02:46:47.975374",
     "exception": false,
     "start_time": "2022-03-04T02:46:47.952995",
     "status": "completed"
    },
    "tags": []
   },
   "source": [
    "# Recommend Items Frequently Purchased Together\n",
    "This notebook demonstrates how recommending items that are frequently purchased together is effective. The current best scoring public notebook [here][1] recommends to customers those customers' last purchases and scores public LB 0.020. In this notebook here, we will begin with that idea and add recommending items that are frequently purchased together with a customers' previous purchaes. This notebook improves the LB and scores LB 0.021. This notebook's strategy is as follows:\n",
    "* recommend items previously purchased [idea here][1]\n",
    "* recommend items that are bought together with previous purchases [idea here][2]\n",
    "* recommend popular items [idea here][1]\n",
    "\n",
    "[1]: https://www.kaggle.com/hengzheng/time-is-our-best-friend-v2\n",
    "[2]: https://www.kaggle.com/cdeotte/customers-who-bought-this-frequently-buy-this"
   ]
  },
  {
   "cell_type": "code",
   "execution_count": 1,
   "id": "9379c664",
   "metadata": {
    "execution": {
     "iopub.execute_input": "2022-03-04T02:46:48.030850Z",
     "iopub.status.busy": "2022-03-04T02:46:48.030253Z",
     "iopub.status.idle": "2022-03-04T02:46:51.663836Z",
     "shell.execute_reply": "2022-03-04T02:46:51.663090Z",
     "shell.execute_reply.started": "2022-03-04T02:29:21.471104Z"
    },
    "papermill": {
     "duration": 3.665155,
     "end_time": "2022-03-04T02:46:51.664029",
     "exception": false,
     "start_time": "2022-03-04T02:46:47.998874",
     "status": "completed"
    },
    "tags": []
   },
   "outputs": [
    {
     "name": "stdout",
     "output_type": "stream",
     "text": [
      "RAPIDS version 21.10.01\n"
     ]
    }
   ],
   "source": [
    "import cudf\n",
    "import pandas as pd\n",
    "import gc\n",
    "\n",
    "print('RAPIDS version',cudf.__version__)"
   ]
  },
  {
   "cell_type": "markdown",
   "id": "a11fdddc",
   "metadata": {
    "papermill": {
     "duration": 0.021649,
     "end_time": "2022-03-04T02:46:51.708386",
     "exception": false,
     "start_time": "2022-03-04T02:46:51.686737",
     "status": "completed"
    },
    "tags": []
   },
   "source": [
    "# Load Transactions, Reduce Memory\n",
    "Discussion about reducing memory is [here][1]\n",
    "\n",
    "[1]: https://www.kaggle.com/c/h-and-m-personalized-fashion-recommendations/discussion/308635"
   ]
  },
  {
   "cell_type": "code",
   "execution_count": 2,
   "id": "0b19093b",
   "metadata": {
    "execution": {
     "iopub.execute_input": "2022-03-04T02:46:51.758648Z",
     "iopub.status.busy": "2022-03-04T02:46:51.758072Z",
     "iopub.status.idle": "2022-03-04T02:47:31.315926Z",
     "shell.execute_reply": "2022-03-04T02:47:31.315246Z",
     "shell.execute_reply.started": "2022-03-04T02:29:24.978543Z"
    },
    "papermill": {
     "duration": 39.585532,
     "end_time": "2022-03-04T02:47:31.316089",
     "exception": false,
     "start_time": "2022-03-04T02:46:51.730557",
     "status": "completed"
    },
    "tags": []
   },
   "outputs": [
    {
     "name": "stdout",
     "output_type": "stream",
     "text": [
      "(31788324, 3)\n"
     ]
    },
    {
     "data": {
      "text/html": [
       "<div>\n",
       "<style scoped>\n",
       "    .dataframe tbody tr th:only-of-type {\n",
       "        vertical-align: middle;\n",
       "    }\n",
       "\n",
       "    .dataframe tbody tr th {\n",
       "        vertical-align: top;\n",
       "    }\n",
       "\n",
       "    .dataframe thead th {\n",
       "        text-align: right;\n",
       "    }\n",
       "</style>\n",
       "<table border=\"1\" class=\"dataframe\">\n",
       "  <thead>\n",
       "    <tr style=\"text-align: right;\">\n",
       "      <th></th>\n",
       "      <th>t_dat</th>\n",
       "      <th>customer_id</th>\n",
       "      <th>article_id</th>\n",
       "    </tr>\n",
       "  </thead>\n",
       "  <tbody>\n",
       "    <tr>\n",
       "      <th>0</th>\n",
       "      <td>2018-09-20</td>\n",
       "      <td>-6846340800584936</td>\n",
       "      <td>663713001</td>\n",
       "    </tr>\n",
       "    <tr>\n",
       "      <th>1</th>\n",
       "      <td>2018-09-20</td>\n",
       "      <td>-6846340800584936</td>\n",
       "      <td>541518023</td>\n",
       "    </tr>\n",
       "    <tr>\n",
       "      <th>2</th>\n",
       "      <td>2018-09-20</td>\n",
       "      <td>-8334631767138808638</td>\n",
       "      <td>505221004</td>\n",
       "    </tr>\n",
       "    <tr>\n",
       "      <th>3</th>\n",
       "      <td>2018-09-20</td>\n",
       "      <td>-8334631767138808638</td>\n",
       "      <td>685687003</td>\n",
       "    </tr>\n",
       "    <tr>\n",
       "      <th>4</th>\n",
       "      <td>2018-09-20</td>\n",
       "      <td>-8334631767138808638</td>\n",
       "      <td>685687004</td>\n",
       "    </tr>\n",
       "  </tbody>\n",
       "</table>\n",
       "</div>"
      ],
      "text/plain": [
       "       t_dat          customer_id  article_id\n",
       "0 2018-09-20    -6846340800584936   663713001\n",
       "1 2018-09-20    -6846340800584936   541518023\n",
       "2 2018-09-20 -8334631767138808638   505221004\n",
       "3 2018-09-20 -8334631767138808638   685687003\n",
       "4 2018-09-20 -8334631767138808638   685687004"
      ]
     },
     "execution_count": 2,
     "metadata": {},
     "output_type": "execute_result"
    }
   ],
   "source": [
    "train = cudf.read_csv('../input/h-and-m-personalized-fashion-recommendations/transactions_train.csv')\n",
    "train['customer_id'] = train['customer_id'].str[-16:].str.hex_to_int().astype('int64')\n",
    "train['article_id'] = train.article_id.astype('int32')\n",
    "train.t_dat = cudf.to_datetime(train.t_dat)\n",
    "train = train[['t_dat','customer_id','article_id']]\n",
    "train.to_parquet('train.pqt',index=False)\n",
    "print( train.shape )\n",
    "train.head()"
   ]
  },
  {
   "cell_type": "code",
   "execution_count": 3,
   "id": "6742ae17",
   "metadata": {
    "execution": {
     "iopub.execute_input": "2022-03-04T02:47:31.371306Z",
     "iopub.status.busy": "2022-03-04T02:47:31.370601Z",
     "iopub.status.idle": "2022-03-04T02:47:31.547581Z",
     "shell.execute_reply": "2022-03-04T02:47:31.548184Z",
     "shell.execute_reply.started": "2022-03-04T02:30:19.008788Z"
    },
    "papermill": {
     "duration": 0.206688,
     "end_time": "2022-03-04T02:47:31.548378",
     "exception": false,
     "start_time": "2022-03-04T02:47:31.341690",
     "status": "completed"
    },
    "tags": []
   },
   "outputs": [
    {
     "name": "stdout",
     "output_type": "stream",
     "text": [
      "Train shape: (5181535, 5)\n"
     ]
    }
   ],
   "source": [
    "tmp = train.groupby('customer_id').t_dat.max().reset_index()\n",
    "tmp.columns = ['customer_id','max_dat']\n",
    "train = train.merge(tmp,on=['customer_id'],how='left')\n",
    "train['diff_dat'] = (train.max_dat - train.t_dat).dt.days\n",
    "train = train.loc[train['diff_dat']<=6]\n",
    "print('Train shape:',train.shape)"
   ]
  },
  {
   "cell_type": "markdown",
   "id": "faef2263",
   "metadata": {
    "papermill": {
     "duration": 0.022621,
     "end_time": "2022-03-04T02:47:31.594672",
     "exception": false,
     "start_time": "2022-03-04T02:47:31.572051",
     "status": "completed"
    },
    "tags": []
   },
   "source": [
    "# Apriori Transformation:\n",
    "\n",
    "### Jason Bian 2.28.2022\n",
    "* https://towardsdatascience.com/the-frequently-bought-together-recommendation-system-b4ed076b24e5\n",
    "* https://github.com/benbogart/frequently_bought_together/blob/main/Frequently_Bought_Together.ipynb\n",
    "\n",
    "* Association_rules Notes: http://rasbt.github.io/mlxtend/user_guide/frequent_patterns/association_rules/\n",
    "\n",
    "* CUDF cheatsheet: https://rapids.ai/assets/files/cheatsheet.pdf\n",
    "\n",
    "* Other methods: clustering?"
   ]
  },
  {
   "cell_type": "code",
   "execution_count": 4,
   "id": "ea55333d",
   "metadata": {
    "execution": {
     "iopub.execute_input": "2022-03-04T02:47:31.645610Z",
     "iopub.status.busy": "2022-03-04T02:47:31.644869Z",
     "iopub.status.idle": "2022-03-04T02:47:31.726115Z",
     "shell.execute_reply": "2022-03-04T02:47:31.726506Z",
     "shell.execute_reply.started": "2022-03-04T02:30:19.195243Z"
    },
    "papermill": {
     "duration": 0.109445,
     "end_time": "2022-03-04T02:47:31.726655",
     "exception": false,
     "start_time": "2022-03-04T02:47:31.617210",
     "status": "completed"
    },
    "tags": []
   },
   "outputs": [
    {
     "data": {
      "text/html": [
       "<div>\n",
       "<style scoped>\n",
       "    .dataframe tbody tr th:only-of-type {\n",
       "        vertical-align: middle;\n",
       "    }\n",
       "\n",
       "    .dataframe tbody tr th {\n",
       "        vertical-align: top;\n",
       "    }\n",
       "\n",
       "    .dataframe thead th {\n",
       "        text-align: right;\n",
       "    }\n",
       "</style>\n",
       "<table border=\"1\" class=\"dataframe\">\n",
       "  <thead>\n",
       "    <tr style=\"text-align: right;\">\n",
       "      <th></th>\n",
       "      <th>t_dat</th>\n",
       "      <th>customer_id</th>\n",
       "      <th>article_id</th>\n",
       "      <th>max_dat</th>\n",
       "      <th>diff_dat</th>\n",
       "    </tr>\n",
       "  </thead>\n",
       "  <tbody>\n",
       "    <tr>\n",
       "      <th>31520544</th>\n",
       "      <td>2020-09-16</td>\n",
       "      <td>825696797860015377</td>\n",
       "      <td>874754016</td>\n",
       "      <td>2020-09-16</td>\n",
       "      <td>0</td>\n",
       "    </tr>\n",
       "    <tr>\n",
       "      <th>31520545</th>\n",
       "      <td>2020-09-16</td>\n",
       "      <td>825696797860015377</td>\n",
       "      <td>874754002</td>\n",
       "      <td>2020-09-16</td>\n",
       "      <td>0</td>\n",
       "    </tr>\n",
       "    <tr>\n",
       "      <th>31520546</th>\n",
       "      <td>2020-09-16</td>\n",
       "      <td>825696797860015377</td>\n",
       "      <td>935694002</td>\n",
       "      <td>2020-09-16</td>\n",
       "      <td>0</td>\n",
       "    </tr>\n",
       "    <tr>\n",
       "      <th>31520547</th>\n",
       "      <td>2020-09-16</td>\n",
       "      <td>-2424921637038555937</td>\n",
       "      <td>751567009</td>\n",
       "      <td>2020-09-16</td>\n",
       "      <td>0</td>\n",
       "    </tr>\n",
       "    <tr>\n",
       "      <th>31520548</th>\n",
       "      <td>2020-09-16</td>\n",
       "      <td>825696797860015377</td>\n",
       "      <td>717490075</td>\n",
       "      <td>2020-09-16</td>\n",
       "      <td>0</td>\n",
       "    </tr>\n",
       "    <tr>\n",
       "      <th>...</th>\n",
       "      <td>...</td>\n",
       "      <td>...</td>\n",
       "      <td>...</td>\n",
       "      <td>...</td>\n",
       "      <td>...</td>\n",
       "    </tr>\n",
       "    <tr>\n",
       "      <th>31788319</th>\n",
       "      <td>2020-09-22</td>\n",
       "      <td>5776383470964371557</td>\n",
       "      <td>573085057</td>\n",
       "      <td>2020-09-22</td>\n",
       "      <td>0</td>\n",
       "    </tr>\n",
       "    <tr>\n",
       "      <th>31788320</th>\n",
       "      <td>2020-09-22</td>\n",
       "      <td>8705515275876785235</td>\n",
       "      <td>890074001</td>\n",
       "      <td>2020-09-22</td>\n",
       "      <td>0</td>\n",
       "    </tr>\n",
       "    <tr>\n",
       "      <th>31788321</th>\n",
       "      <td>2020-09-22</td>\n",
       "      <td>-731468567251345846</td>\n",
       "      <td>868879003</td>\n",
       "      <td>2020-09-22</td>\n",
       "      <td>0</td>\n",
       "    </tr>\n",
       "    <tr>\n",
       "      <th>31788322</th>\n",
       "      <td>2020-09-22</td>\n",
       "      <td>8705515275876785235</td>\n",
       "      <td>886566001</td>\n",
       "      <td>2020-09-22</td>\n",
       "      <td>0</td>\n",
       "    </tr>\n",
       "    <tr>\n",
       "      <th>31788323</th>\n",
       "      <td>2020-09-22</td>\n",
       "      <td>8281712822250020254</td>\n",
       "      <td>855706009</td>\n",
       "      <td>2020-09-22</td>\n",
       "      <td>0</td>\n",
       "    </tr>\n",
       "  </tbody>\n",
       "</table>\n",
       "<p>240311 rows × 5 columns</p>\n",
       "</div>"
      ],
      "text/plain": [
       "              t_dat          customer_id  article_id    max_dat  diff_dat\n",
       "31520544 2020-09-16   825696797860015377   874754016 2020-09-16         0\n",
       "31520545 2020-09-16   825696797860015377   874754002 2020-09-16         0\n",
       "31520546 2020-09-16   825696797860015377   935694002 2020-09-16         0\n",
       "31520547 2020-09-16 -2424921637038555937   751567009 2020-09-16         0\n",
       "31520548 2020-09-16   825696797860015377   717490075 2020-09-16         0\n",
       "...             ...                  ...         ...        ...       ...\n",
       "31788319 2020-09-22  5776383470964371557   573085057 2020-09-22         0\n",
       "31788320 2020-09-22  8705515275876785235   890074001 2020-09-22         0\n",
       "31788321 2020-09-22  -731468567251345846   868879003 2020-09-22         0\n",
       "31788322 2020-09-22  8705515275876785235   886566001 2020-09-22         0\n",
       "31788323 2020-09-22  8281712822250020254   855706009 2020-09-22         0\n",
       "\n",
       "[240311 rows x 5 columns]"
      ]
     },
     "execution_count": 4,
     "metadata": {},
     "output_type": "execute_result"
    }
   ],
   "source": [
    "#train\n",
    "train = train.loc[train.t_dat >= cudf.to_datetime('2020-09-16')]\n",
    "train"
   ]
  },
  {
   "cell_type": "code",
   "execution_count": 5,
   "id": "f20fa5e5",
   "metadata": {
    "execution": {
     "iopub.execute_input": "2022-03-04T02:47:31.777176Z",
     "iopub.status.busy": "2022-03-04T02:47:31.776651Z",
     "iopub.status.idle": "2022-03-04T02:47:31.852269Z",
     "shell.execute_reply": "2022-03-04T02:47:31.852684Z",
     "shell.execute_reply.started": "2022-03-04T02:30:19.285323Z"
    },
    "papermill": {
     "duration": 0.102784,
     "end_time": "2022-03-04T02:47:31.852829",
     "exception": false,
     "start_time": "2022-03-04T02:47:31.750045",
     "status": "completed"
    },
    "tags": []
   },
   "outputs": [
    {
     "data": {
      "text/html": [
       "<div>\n",
       "<style scoped>\n",
       "    .dataframe tbody tr th:only-of-type {\n",
       "        vertical-align: middle;\n",
       "    }\n",
       "\n",
       "    .dataframe tbody tr th {\n",
       "        vertical-align: top;\n",
       "    }\n",
       "\n",
       "    .dataframe thead th {\n",
       "        text-align: right;\n",
       "    }\n",
       "</style>\n",
       "<table border=\"1\" class=\"dataframe\">\n",
       "  <thead>\n",
       "    <tr style=\"text-align: right;\">\n",
       "      <th></th>\n",
       "      <th>customer_id</th>\n",
       "      <th>article_id</th>\n",
       "    </tr>\n",
       "  </thead>\n",
       "  <tbody>\n",
       "    <tr>\n",
       "      <th>0</th>\n",
       "      <td>-9223100958908512198</td>\n",
       "      <td>[673677024, 673677027, 785034009]</td>\n",
       "    </tr>\n",
       "    <tr>\n",
       "      <th>1</th>\n",
       "      <td>-9223002534477110135</td>\n",
       "      <td>[793699001]</td>\n",
       "    </tr>\n",
       "    <tr>\n",
       "      <th>2</th>\n",
       "      <td>-9222810895170663723</td>\n",
       "      <td>[892309001, 903306004]</td>\n",
       "    </tr>\n",
       "    <tr>\n",
       "      <th>3</th>\n",
       "      <td>-9221924794303263774</td>\n",
       "      <td>[708138013, 888343003, 892857002]</td>\n",
       "    </tr>\n",
       "    <tr>\n",
       "      <th>4</th>\n",
       "      <td>-9221811157628158522</td>\n",
       "      <td>[891663002]</td>\n",
       "    </tr>\n",
       "    <tr>\n",
       "      <th>...</th>\n",
       "      <td>...</td>\n",
       "      <td>...</td>\n",
       "    </tr>\n",
       "    <tr>\n",
       "      <th>68979</th>\n",
       "      <td>9221607025486275188</td>\n",
       "      <td>[699755071, 699755081, 751994003]</td>\n",
       "    </tr>\n",
       "    <tr>\n",
       "      <th>68980</th>\n",
       "      <td>9221813808370389952</td>\n",
       "      <td>[562245099, 865929002, 869331006]</td>\n",
       "    </tr>\n",
       "    <tr>\n",
       "      <th>68981</th>\n",
       "      <td>9222310594107555341</td>\n",
       "      <td>[884319001, 884319003]</td>\n",
       "    </tr>\n",
       "    <tr>\n",
       "      <th>68982</th>\n",
       "      <td>9223099843213569889</td>\n",
       "      <td>[903924002]</td>\n",
       "    </tr>\n",
       "    <tr>\n",
       "      <th>68983</th>\n",
       "      <td>9223141695752178477</td>\n",
       "      <td>[914441003]</td>\n",
       "    </tr>\n",
       "  </tbody>\n",
       "</table>\n",
       "<p>68984 rows × 2 columns</p>\n",
       "</div>"
      ],
      "text/plain": [
       "               customer_id                         article_id\n",
       "0     -9223100958908512198  [673677024, 673677027, 785034009]\n",
       "1     -9223002534477110135                        [793699001]\n",
       "2     -9222810895170663723             [892309001, 903306004]\n",
       "3     -9221924794303263774  [708138013, 888343003, 892857002]\n",
       "4     -9221811157628158522                        [891663002]\n",
       "...                    ...                                ...\n",
       "68979  9221607025486275188  [699755071, 699755081, 751994003]\n",
       "68980  9221813808370389952  [562245099, 865929002, 869331006]\n",
       "68981  9222310594107555341             [884319001, 884319003]\n",
       "68982  9223099843213569889                        [903924002]\n",
       "68983  9223141695752178477                        [914441003]\n",
       "\n",
       "[68984 rows x 2 columns]"
      ]
     },
     "execution_count": 5,
     "metadata": {},
     "output_type": "execute_result"
    }
   ],
   "source": [
    "#Apriori treats duplicates as a single occurence\n",
    "train_apri = train.groupby('customer_id')['article_id'].unique().reset_index()\n",
    "train_apri"
   ]
  },
  {
   "cell_type": "code",
   "execution_count": 6,
   "id": "bd4b9c69",
   "metadata": {
    "execution": {
     "iopub.execute_input": "2022-03-04T02:47:31.905409Z",
     "iopub.status.busy": "2022-03-04T02:47:31.904829Z",
     "iopub.status.idle": "2022-03-04T02:47:31.919711Z",
     "shell.execute_reply": "2022-03-04T02:47:31.919300Z",
     "shell.execute_reply.started": "2022-03-04T02:30:19.365177Z"
    },
    "papermill": {
     "duration": 0.042924,
     "end_time": "2022-03-04T02:47:31.919827",
     "exception": false,
     "start_time": "2022-03-04T02:47:31.876903",
     "status": "completed"
    },
    "tags": []
   },
   "outputs": [],
   "source": [
    "from mlxtend.preprocessing import TransactionEncoder\n",
    "te = TransactionEncoder()"
   ]
  },
  {
   "cell_type": "code",
   "execution_count": 7,
   "id": "2b8fcde5",
   "metadata": {
    "execution": {
     "iopub.execute_input": "2022-03-04T02:47:31.974404Z",
     "iopub.status.busy": "2022-03-04T02:47:31.973465Z",
     "iopub.status.idle": "2022-03-04T02:47:32.689922Z",
     "shell.execute_reply": "2022-03-04T02:47:32.690365Z",
     "shell.execute_reply.started": "2022-03-04T02:30:19.384658Z"
    },
    "papermill": {
     "duration": 0.746774,
     "end_time": "2022-03-04T02:47:32.690521",
     "exception": false,
     "start_time": "2022-03-04T02:47:31.943747",
     "status": "completed"
    },
    "tags": []
   },
   "outputs": [
    {
     "data": {
      "text/html": [
       "<div>\n",
       "<style scoped>\n",
       "    .dataframe tbody tr th:only-of-type {\n",
       "        vertical-align: middle;\n",
       "    }\n",
       "\n",
       "    .dataframe tbody tr th {\n",
       "        vertical-align: top;\n",
       "    }\n",
       "\n",
       "    .dataframe thead th {\n",
       "        text-align: right;\n",
       "    }\n",
       "</style>\n",
       "<table border=\"1\" class=\"dataframe\">\n",
       "  <thead>\n",
       "    <tr style=\"text-align: right;\">\n",
       "      <th></th>\n",
       "      <th>108775044</th>\n",
       "      <th>111565001</th>\n",
       "      <th>111586001</th>\n",
       "      <th>111593001</th>\n",
       "      <th>111609001</th>\n",
       "      <th>123173001</th>\n",
       "      <th>129085001</th>\n",
       "      <th>129085027</th>\n",
       "      <th>130035001</th>\n",
       "      <th>144993001</th>\n",
       "      <th>...</th>\n",
       "      <th>948152002</th>\n",
       "      <th>949198001</th>\n",
       "      <th>949551001</th>\n",
       "      <th>949551002</th>\n",
       "      <th>949594001</th>\n",
       "      <th>952267001</th>\n",
       "      <th>952938001</th>\n",
       "      <th>953450001</th>\n",
       "      <th>953763001</th>\n",
       "      <th>956217002</th>\n",
       "    </tr>\n",
       "  </thead>\n",
       "  <tbody>\n",
       "    <tr>\n",
       "      <th>0</th>\n",
       "      <td>False</td>\n",
       "      <td>False</td>\n",
       "      <td>False</td>\n",
       "      <td>False</td>\n",
       "      <td>False</td>\n",
       "      <td>False</td>\n",
       "      <td>False</td>\n",
       "      <td>False</td>\n",
       "      <td>False</td>\n",
       "      <td>False</td>\n",
       "      <td>...</td>\n",
       "      <td>False</td>\n",
       "      <td>False</td>\n",
       "      <td>False</td>\n",
       "      <td>False</td>\n",
       "      <td>False</td>\n",
       "      <td>False</td>\n",
       "      <td>False</td>\n",
       "      <td>False</td>\n",
       "      <td>False</td>\n",
       "      <td>False</td>\n",
       "    </tr>\n",
       "    <tr>\n",
       "      <th>1</th>\n",
       "      <td>False</td>\n",
       "      <td>False</td>\n",
       "      <td>False</td>\n",
       "      <td>False</td>\n",
       "      <td>False</td>\n",
       "      <td>False</td>\n",
       "      <td>False</td>\n",
       "      <td>False</td>\n",
       "      <td>False</td>\n",
       "      <td>False</td>\n",
       "      <td>...</td>\n",
       "      <td>False</td>\n",
       "      <td>False</td>\n",
       "      <td>False</td>\n",
       "      <td>False</td>\n",
       "      <td>False</td>\n",
       "      <td>False</td>\n",
       "      <td>False</td>\n",
       "      <td>False</td>\n",
       "      <td>False</td>\n",
       "      <td>False</td>\n",
       "    </tr>\n",
       "    <tr>\n",
       "      <th>2</th>\n",
       "      <td>False</td>\n",
       "      <td>False</td>\n",
       "      <td>False</td>\n",
       "      <td>False</td>\n",
       "      <td>False</td>\n",
       "      <td>False</td>\n",
       "      <td>False</td>\n",
       "      <td>False</td>\n",
       "      <td>False</td>\n",
       "      <td>False</td>\n",
       "      <td>...</td>\n",
       "      <td>False</td>\n",
       "      <td>False</td>\n",
       "      <td>False</td>\n",
       "      <td>False</td>\n",
       "      <td>False</td>\n",
       "      <td>False</td>\n",
       "      <td>False</td>\n",
       "      <td>False</td>\n",
       "      <td>False</td>\n",
       "      <td>False</td>\n",
       "    </tr>\n",
       "    <tr>\n",
       "      <th>3</th>\n",
       "      <td>False</td>\n",
       "      <td>False</td>\n",
       "      <td>False</td>\n",
       "      <td>False</td>\n",
       "      <td>False</td>\n",
       "      <td>False</td>\n",
       "      <td>False</td>\n",
       "      <td>False</td>\n",
       "      <td>False</td>\n",
       "      <td>False</td>\n",
       "      <td>...</td>\n",
       "      <td>False</td>\n",
       "      <td>False</td>\n",
       "      <td>False</td>\n",
       "      <td>False</td>\n",
       "      <td>False</td>\n",
       "      <td>False</td>\n",
       "      <td>False</td>\n",
       "      <td>False</td>\n",
       "      <td>False</td>\n",
       "      <td>False</td>\n",
       "    </tr>\n",
       "    <tr>\n",
       "      <th>4</th>\n",
       "      <td>False</td>\n",
       "      <td>False</td>\n",
       "      <td>False</td>\n",
       "      <td>False</td>\n",
       "      <td>False</td>\n",
       "      <td>False</td>\n",
       "      <td>False</td>\n",
       "      <td>False</td>\n",
       "      <td>False</td>\n",
       "      <td>False</td>\n",
       "      <td>...</td>\n",
       "      <td>False</td>\n",
       "      <td>False</td>\n",
       "      <td>False</td>\n",
       "      <td>False</td>\n",
       "      <td>False</td>\n",
       "      <td>False</td>\n",
       "      <td>False</td>\n",
       "      <td>False</td>\n",
       "      <td>False</td>\n",
       "      <td>False</td>\n",
       "    </tr>\n",
       "  </tbody>\n",
       "</table>\n",
       "<p>5 rows × 17986 columns</p>\n",
       "</div>"
      ],
      "text/plain": [
       "   108775044  111565001  111586001  111593001  111609001  123173001  \\\n",
       "0      False      False      False      False      False      False   \n",
       "1      False      False      False      False      False      False   \n",
       "2      False      False      False      False      False      False   \n",
       "3      False      False      False      False      False      False   \n",
       "4      False      False      False      False      False      False   \n",
       "\n",
       "   129085001  129085027  130035001  144993001  ...  948152002  949198001  \\\n",
       "0      False      False      False      False  ...      False      False   \n",
       "1      False      False      False      False  ...      False      False   \n",
       "2      False      False      False      False  ...      False      False   \n",
       "3      False      False      False      False  ...      False      False   \n",
       "4      False      False      False      False  ...      False      False   \n",
       "\n",
       "   949551001  949551002  949594001  952267001  952938001  953450001  \\\n",
       "0      False      False      False      False      False      False   \n",
       "1      False      False      False      False      False      False   \n",
       "2      False      False      False      False      False      False   \n",
       "3      False      False      False      False      False      False   \n",
       "4      False      False      False      False      False      False   \n",
       "\n",
       "   953763001  956217002  \n",
       "0      False      False  \n",
       "1      False      False  \n",
       "2      False      False  \n",
       "3      False      False  \n",
       "4      False      False  \n",
       "\n",
       "[5 rows x 17986 columns]"
      ]
     },
     "execution_count": 7,
     "metadata": {},
     "output_type": "execute_result"
    }
   ],
   "source": [
    "te.fit(train_apri['article_id'].to_pandas())\n",
    "orders_1hot = te.transform(train_apri['article_id'].to_pandas())\n",
    "\n",
    "orders_1hot = pd.DataFrame(orders_1hot, columns =te.columns_)\n",
    "orders_1hot.head()"
   ]
  },
  {
   "cell_type": "code",
   "execution_count": 8,
   "id": "34a25bdb",
   "metadata": {
    "execution": {
     "iopub.execute_input": "2022-03-04T02:47:32.742988Z",
     "iopub.status.busy": "2022-03-04T02:47:32.742196Z",
     "iopub.status.idle": "2022-03-04T02:47:32.752590Z",
     "shell.execute_reply": "2022-03-04T02:47:32.752172Z",
     "shell.execute_reply.started": "2022-03-04T02:30:20.104739Z"
    },
    "papermill": {
     "duration": 0.037575,
     "end_time": "2022-03-04T02:47:32.752708",
     "exception": false,
     "start_time": "2022-03-04T02:47:32.715133",
     "status": "completed"
    },
    "tags": []
   },
   "outputs": [],
   "source": [
    "from mlxtend.frequent_patterns import apriori"
   ]
  },
  {
   "cell_type": "code",
   "execution_count": 9,
   "id": "ad553707",
   "metadata": {
    "execution": {
     "iopub.execute_input": "2022-03-04T02:47:32.807575Z",
     "iopub.status.busy": "2022-03-04T02:47:32.806719Z",
     "iopub.status.idle": "2022-03-04T02:47:38.773386Z",
     "shell.execute_reply": "2022-03-04T02:47:38.772511Z",
     "shell.execute_reply.started": "2022-03-04T02:30:20.117254Z"
    },
    "papermill": {
     "duration": 5.994693,
     "end_time": "2022-03-04T02:47:38.773530",
     "exception": false,
     "start_time": "2022-03-04T02:47:32.778837",
     "status": "completed"
    },
    "tags": []
   },
   "outputs": [],
   "source": [
    "is_ap = apriori(orders_1hot, min_support=0.003, max_len=2, use_colnames=True)"
   ]
  },
  {
   "cell_type": "code",
   "execution_count": 10,
   "id": "7529c6a0",
   "metadata": {
    "execution": {
     "iopub.execute_input": "2022-03-04T02:47:38.840051Z",
     "iopub.status.busy": "2022-03-04T02:47:38.838436Z",
     "iopub.status.idle": "2022-03-04T02:47:38.842325Z",
     "shell.execute_reply": "2022-03-04T02:47:38.841840Z",
     "shell.execute_reply.started": "2022-03-04T02:31:49.099519Z"
    },
    "papermill": {
     "duration": 0.044098,
     "end_time": "2022-03-04T02:47:38.842451",
     "exception": false,
     "start_time": "2022-03-04T02:47:38.798353",
     "status": "completed"
    },
    "tags": []
   },
   "outputs": [
    {
     "data": {
      "text/html": [
       "<div>\n",
       "<style scoped>\n",
       "    .dataframe tbody tr th:only-of-type {\n",
       "        vertical-align: middle;\n",
       "    }\n",
       "\n",
       "    .dataframe tbody tr th {\n",
       "        vertical-align: top;\n",
       "    }\n",
       "\n",
       "    .dataframe thead th {\n",
       "        text-align: right;\n",
       "    }\n",
       "</style>\n",
       "<table border=\"1\" class=\"dataframe\">\n",
       "  <thead>\n",
       "    <tr style=\"text-align: right;\">\n",
       "      <th></th>\n",
       "      <th>support</th>\n",
       "      <th>itemsets</th>\n",
       "    </tr>\n",
       "  </thead>\n",
       "  <tbody>\n",
       "    <tr>\n",
       "      <th>58</th>\n",
       "      <td>0.003001</td>\n",
       "      <td>(914441001)</td>\n",
       "    </tr>\n",
       "    <tr>\n",
       "      <th>7</th>\n",
       "      <td>0.003030</td>\n",
       "      <td>(573085043)</td>\n",
       "    </tr>\n",
       "    <tr>\n",
       "      <th>55</th>\n",
       "      <td>0.003030</td>\n",
       "      <td>(910601002)</td>\n",
       "    </tr>\n",
       "    <tr>\n",
       "      <th>3</th>\n",
       "      <td>0.003059</td>\n",
       "      <td>(456163060)</td>\n",
       "    </tr>\n",
       "    <tr>\n",
       "      <th>21</th>\n",
       "      <td>0.003059</td>\n",
       "      <td>(781613006)</td>\n",
       "    </tr>\n",
       "    <tr>\n",
       "      <th>...</th>\n",
       "      <td>...</td>\n",
       "      <td>...</td>\n",
       "    </tr>\n",
       "    <tr>\n",
       "      <th>34</th>\n",
       "      <td>0.006973</td>\n",
       "      <td>(866731001)</td>\n",
       "    </tr>\n",
       "    <tr>\n",
       "      <th>68</th>\n",
       "      <td>0.007437</td>\n",
       "      <td>(923758001)</td>\n",
       "    </tr>\n",
       "    <tr>\n",
       "      <th>70</th>\n",
       "      <td>0.007726</td>\n",
       "      <td>(924243002)</td>\n",
       "    </tr>\n",
       "    <tr>\n",
       "      <th>64</th>\n",
       "      <td>0.008248</td>\n",
       "      <td>(918522001)</td>\n",
       "    </tr>\n",
       "    <tr>\n",
       "      <th>69</th>\n",
       "      <td>0.011061</td>\n",
       "      <td>(924243001)</td>\n",
       "    </tr>\n",
       "  </tbody>\n",
       "</table>\n",
       "<p>77 rows × 2 columns</p>\n",
       "</div>"
      ],
      "text/plain": [
       "     support     itemsets\n",
       "58  0.003001  (914441001)\n",
       "7   0.003030  (573085043)\n",
       "55  0.003030  (910601002)\n",
       "3   0.003059  (456163060)\n",
       "21  0.003059  (781613006)\n",
       "..       ...          ...\n",
       "34  0.006973  (866731001)\n",
       "68  0.007437  (923758001)\n",
       "70  0.007726  (924243002)\n",
       "64  0.008248  (918522001)\n",
       "69  0.011061  (924243001)\n",
       "\n",
       "[77 rows x 2 columns]"
      ]
     },
     "execution_count": 10,
     "metadata": {},
     "output_type": "execute_result"
    }
   ],
   "source": [
    "is_ap.sort_values(by=['support'])"
   ]
  },
  {
   "cell_type": "markdown",
   "id": "107d887b",
   "metadata": {
    "papermill": {
     "duration": 0.026091,
     "end_time": "2022-03-04T02:47:38.893764",
     "exception": false,
     "start_time": "2022-03-04T02:47:38.867673",
     "status": "completed"
    },
    "tags": []
   },
   "source": [
    "# Calculate Association Rules"
   ]
  },
  {
   "cell_type": "code",
   "execution_count": 11,
   "id": "84200a14",
   "metadata": {
    "execution": {
     "iopub.execute_input": "2022-03-04T02:47:38.948152Z",
     "iopub.status.busy": "2022-03-04T02:47:38.947313Z",
     "iopub.status.idle": "2022-03-04T02:47:38.949096Z",
     "shell.execute_reply": "2022-03-04T02:47:38.949540Z",
     "shell.execute_reply.started": "2022-03-04T02:34:19.066405Z"
    },
    "papermill": {
     "duration": 0.030851,
     "end_time": "2022-03-04T02:47:38.949669",
     "exception": false,
     "start_time": "2022-03-04T02:47:38.918818",
     "status": "completed"
    },
    "tags": []
   },
   "outputs": [],
   "source": [
    "from mlxtend.frequent_patterns import association_rules"
   ]
  },
  {
   "cell_type": "code",
   "execution_count": 12,
   "id": "c7ed37a2",
   "metadata": {
    "execution": {
     "iopub.execute_input": "2022-03-04T02:47:39.012217Z",
     "iopub.status.busy": "2022-03-04T02:47:39.011554Z",
     "iopub.status.idle": "2022-03-04T02:47:39.015801Z",
     "shell.execute_reply": "2022-03-04T02:47:39.016246Z",
     "shell.execute_reply.started": "2022-03-04T02:34:30.850363Z"
    },
    "papermill": {
     "duration": 0.041903,
     "end_time": "2022-03-04T02:47:39.016390",
     "exception": false,
     "start_time": "2022-03-04T02:47:38.974487",
     "status": "completed"
    },
    "tags": []
   },
   "outputs": [
    {
     "data": {
      "text/html": [
       "<div>\n",
       "<style scoped>\n",
       "    .dataframe tbody tr th:only-of-type {\n",
       "        vertical-align: middle;\n",
       "    }\n",
       "\n",
       "    .dataframe tbody tr th {\n",
       "        vertical-align: top;\n",
       "    }\n",
       "\n",
       "    .dataframe thead th {\n",
       "        text-align: right;\n",
       "    }\n",
       "</style>\n",
       "<table border=\"1\" class=\"dataframe\">\n",
       "  <thead>\n",
       "    <tr style=\"text-align: right;\">\n",
       "      <th></th>\n",
       "      <th>support</th>\n",
       "      <th>itemsets</th>\n",
       "    </tr>\n",
       "  </thead>\n",
       "  <tbody>\n",
       "    <tr>\n",
       "      <th>0</th>\n",
       "      <td>0.003233</td>\n",
       "      <td>(372860001)</td>\n",
       "    </tr>\n",
       "    <tr>\n",
       "      <th>1</th>\n",
       "      <td>0.003131</td>\n",
       "      <td>(372860002)</td>\n",
       "    </tr>\n",
       "    <tr>\n",
       "      <th>2</th>\n",
       "      <td>0.005624</td>\n",
       "      <td>(448509014)</td>\n",
       "    </tr>\n",
       "    <tr>\n",
       "      <th>3</th>\n",
       "      <td>0.003059</td>\n",
       "      <td>(456163060)</td>\n",
       "    </tr>\n",
       "    <tr>\n",
       "      <th>4</th>\n",
       "      <td>0.003349</td>\n",
       "      <td>(456163086)</td>\n",
       "    </tr>\n",
       "    <tr>\n",
       "      <th>...</th>\n",
       "      <td>...</td>\n",
       "      <td>...</td>\n",
       "    </tr>\n",
       "    <tr>\n",
       "      <th>72</th>\n",
       "      <td>0.004088</td>\n",
       "      <td>(929165002)</td>\n",
       "    </tr>\n",
       "    <tr>\n",
       "      <th>73</th>\n",
       "      <td>0.004566</td>\n",
       "      <td>(929275001)</td>\n",
       "    </tr>\n",
       "    <tr>\n",
       "      <th>74</th>\n",
       "      <td>0.004247</td>\n",
       "      <td>(930380001)</td>\n",
       "    </tr>\n",
       "    <tr>\n",
       "      <th>75</th>\n",
       "      <td>0.004813</td>\n",
       "      <td>(934835001)</td>\n",
       "    </tr>\n",
       "    <tr>\n",
       "      <th>76</th>\n",
       "      <td>0.004929</td>\n",
       "      <td>(935541001)</td>\n",
       "    </tr>\n",
       "  </tbody>\n",
       "</table>\n",
       "<p>77 rows × 2 columns</p>\n",
       "</div>"
      ],
      "text/plain": [
       "     support     itemsets\n",
       "0   0.003233  (372860001)\n",
       "1   0.003131  (372860002)\n",
       "2   0.005624  (448509014)\n",
       "3   0.003059  (456163060)\n",
       "4   0.003349  (456163086)\n",
       "..       ...          ...\n",
       "72  0.004088  (929165002)\n",
       "73  0.004566  (929275001)\n",
       "74  0.004247  (930380001)\n",
       "75  0.004813  (934835001)\n",
       "76  0.004929  (935541001)\n",
       "\n",
       "[77 rows x 2 columns]"
      ]
     },
     "execution_count": 12,
     "metadata": {},
     "output_type": "execute_result"
    }
   ],
   "source": [
    "is_ap"
   ]
  },
  {
   "cell_type": "code",
   "execution_count": 13,
   "id": "f9ae7ff8",
   "metadata": {
    "execution": {
     "iopub.execute_input": "2022-03-04T02:47:39.079630Z",
     "iopub.status.busy": "2022-03-04T02:47:39.078558Z",
     "iopub.status.idle": "2022-03-04T02:47:39.081699Z",
     "shell.execute_reply": "2022-03-04T02:47:39.082141Z",
     "shell.execute_reply.started": "2022-03-04T02:34:32.90655Z"
    },
    "papermill": {
     "duration": 0.040342,
     "end_time": "2022-03-04T02:47:39.082272",
     "exception": false,
     "start_time": "2022-03-04T02:47:39.041930",
     "status": "completed"
    },
    "tags": []
   },
   "outputs": [
    {
     "data": {
      "text/html": [
       "<div>\n",
       "<style scoped>\n",
       "    .dataframe tbody tr th:only-of-type {\n",
       "        vertical-align: middle;\n",
       "    }\n",
       "\n",
       "    .dataframe tbody tr th {\n",
       "        vertical-align: top;\n",
       "    }\n",
       "\n",
       "    .dataframe thead th {\n",
       "        text-align: right;\n",
       "    }\n",
       "</style>\n",
       "<table border=\"1\" class=\"dataframe\">\n",
       "  <thead>\n",
       "    <tr style=\"text-align: right;\">\n",
       "      <th></th>\n",
       "      <th>antecedents</th>\n",
       "      <th>consequents</th>\n",
       "      <th>antecedent support</th>\n",
       "      <th>consequent support</th>\n",
       "      <th>support</th>\n",
       "      <th>confidence</th>\n",
       "      <th>lift</th>\n",
       "      <th>leverage</th>\n",
       "      <th>conviction</th>\n",
       "    </tr>\n",
       "  </thead>\n",
       "  <tbody>\n",
       "  </tbody>\n",
       "</table>\n",
       "</div>"
      ],
      "text/plain": [
       "Empty DataFrame\n",
       "Columns: [antecedents, consequents, antecedent support, consequent support, support, confidence, lift, leverage, conviction]\n",
       "Index: []"
      ]
     },
     "execution_count": 13,
     "metadata": {},
     "output_type": "execute_result"
    }
   ],
   "source": [
    "rules = association_rules(is_ap, metric=\"lift\")\n",
    "rules.head()"
   ]
  },
  {
   "cell_type": "markdown",
   "id": "70ef7548",
   "metadata": {
    "papermill": {
     "duration": 0.025386,
     "end_time": "2022-03-04T02:47:39.133401",
     "exception": false,
     "start_time": "2022-03-04T02:47:39.108015",
     "status": "completed"
    },
    "tags": []
   },
   "source": [
    "# Find Each Customer's Last Week of Purchases\n",
    "Our final predictions will have the row order from of our dataframe. Each row of our dataframe will be a prediction. We will create the `predictionstring` later by `train.groupby('customer_id').article_id.sum()`. Since `article_id` is a string, when we groupby sum, it will concatenate all the customer predictions into a single string. It will also create the string in the order of the dataframe. So as we proceed in this notebook, we will order the dataframe how we want our predictions ordered."
   ]
  },
  {
   "cell_type": "markdown",
   "id": "3ee99144",
   "metadata": {
    "papermill": {
     "duration": 0.025513,
     "end_time": "2022-03-04T02:47:39.184747",
     "exception": false,
     "start_time": "2022-03-04T02:47:39.159234",
     "status": "completed"
    },
    "tags": []
   },
   "source": [
    "# (1) Recommend Most Often Previously Purchased Items\n",
    "Note that many operations in cuDF will shuffle the order of the dataframe rows. Therefore we need to sort afterward because we want the most often previously purchased items first. Because this will be the order of our predictons. Since we sort by `ct` and then `t_dat` will will recommend items that have been purchased more frequently first followed by items purchased more recently second."
   ]
  },
  {
   "cell_type": "code",
   "execution_count": 14,
   "id": "c601eb41",
   "metadata": {
    "execution": {
     "iopub.execute_input": "2022-03-04T02:47:39.240098Z",
     "iopub.status.busy": "2022-03-04T02:47:39.239294Z",
     "iopub.status.idle": "2022-03-04T02:47:39.293662Z",
     "shell.execute_reply": "2022-03-04T02:47:39.294107Z",
     "shell.execute_reply.started": "2022-03-04T02:30:26.343058Z"
    },
    "papermill": {
     "duration": 0.083284,
     "end_time": "2022-03-04T02:47:39.294264",
     "exception": false,
     "start_time": "2022-03-04T02:47:39.210980",
     "status": "completed"
    },
    "tags": []
   },
   "outputs": [
    {
     "data": {
      "text/html": [
       "<div>\n",
       "<style scoped>\n",
       "    .dataframe tbody tr th:only-of-type {\n",
       "        vertical-align: middle;\n",
       "    }\n",
       "\n",
       "    .dataframe tbody tr th {\n",
       "        vertical-align: top;\n",
       "    }\n",
       "\n",
       "    .dataframe thead th {\n",
       "        text-align: right;\n",
       "    }\n",
       "</style>\n",
       "<table border=\"1\" class=\"dataframe\">\n",
       "  <thead>\n",
       "    <tr style=\"text-align: right;\">\n",
       "      <th></th>\n",
       "      <th>t_dat</th>\n",
       "      <th>customer_id</th>\n",
       "      <th>article_id</th>\n",
       "      <th>max_dat</th>\n",
       "      <th>diff_dat</th>\n",
       "      <th>ct</th>\n",
       "    </tr>\n",
       "  </thead>\n",
       "  <tbody>\n",
       "    <tr>\n",
       "      <th>38179</th>\n",
       "      <td>2020-09-16</td>\n",
       "      <td>-6341822073530655775</td>\n",
       "      <td>685814001</td>\n",
       "      <td>2020-09-16</td>\n",
       "      <td>0</td>\n",
       "      <td>30</td>\n",
       "    </tr>\n",
       "    <tr>\n",
       "      <th>80867</th>\n",
       "      <td>2020-09-18</td>\n",
       "      <td>954634701602309532</td>\n",
       "      <td>895555001</td>\n",
       "      <td>2020-09-18</td>\n",
       "      <td>0</td>\n",
       "      <td>26</td>\n",
       "    </tr>\n",
       "    <tr>\n",
       "      <th>169740</th>\n",
       "      <td>2020-09-21</td>\n",
       "      <td>-1032181102150868027</td>\n",
       "      <td>677930023</td>\n",
       "      <td>2020-09-21</td>\n",
       "      <td>0</td>\n",
       "      <td>25</td>\n",
       "    </tr>\n",
       "    <tr>\n",
       "      <th>77927</th>\n",
       "      <td>2020-09-18</td>\n",
       "      <td>-6439897037483747065</td>\n",
       "      <td>685813003</td>\n",
       "      <td>2020-09-19</td>\n",
       "      <td>1</td>\n",
       "      <td>25</td>\n",
       "    </tr>\n",
       "    <tr>\n",
       "      <th>106632</th>\n",
       "      <td>2020-09-18</td>\n",
       "      <td>6200564461742194660</td>\n",
       "      <td>715624001</td>\n",
       "      <td>2020-09-18</td>\n",
       "      <td>0</td>\n",
       "      <td>20</td>\n",
       "    </tr>\n",
       "  </tbody>\n",
       "</table>\n",
       "</div>"
      ],
      "text/plain": [
       "            t_dat          customer_id  article_id    max_dat  diff_dat  ct\n",
       "38179  2020-09-16 -6341822073530655775   685814001 2020-09-16         0  30\n",
       "80867  2020-09-18   954634701602309532   895555001 2020-09-18         0  26\n",
       "169740 2020-09-21 -1032181102150868027   677930023 2020-09-21         0  25\n",
       "77927  2020-09-18 -6439897037483747065   685813003 2020-09-19         1  25\n",
       "106632 2020-09-18  6200564461742194660   715624001 2020-09-18         0  20"
      ]
     },
     "execution_count": 14,
     "metadata": {},
     "output_type": "execute_result"
    }
   ],
   "source": [
    "tmp = train.groupby(['customer_id','article_id'])['t_dat'].agg('count').reset_index()\n",
    "tmp.columns = ['customer_id','article_id','ct']\n",
    "train = train.merge(tmp,on=['customer_id','article_id'],how='left')\n",
    "train = train.sort_values(['ct','t_dat'],ascending=False)\n",
    "train = train.drop_duplicates(['customer_id','article_id'])\n",
    "train = train.sort_values(['ct','t_dat'],ascending=False)\n",
    "train.head()"
   ]
  },
  {
   "cell_type": "markdown",
   "id": "ac3e5360",
   "metadata": {
    "papermill": {
     "duration": 0.026575,
     "end_time": "2022-03-04T02:47:39.347404",
     "exception": false,
     "start_time": "2022-03-04T02:47:39.320829",
     "status": "completed"
    },
    "tags": []
   },
   "source": [
    "# (2) Recommend Items Purchased Together\n",
    "In my notebook [here][1], we compute a dictionary of items frequently purchased together. We will load and use that dictionary below. Note that we use the command `drop_duplicates` so that we don't recommend an item that the user has already bought and we have already recommended above. We will need to use Pandas for some commands because RAPIDS cuDF doesn't have two conveinent commands, (1) create new column from dictionary map of another column (2) groupby aggregate strings sum.\n",
    "\n",
    "We concatenate these rows after the rows containing customers' previous purchases. Therefore we will recommend previous items first and then items purchased together second. Note the trick to convert a column of int32 into a prediction string (using groupby agg str sum) is from notebook [here][2]\n",
    "\n",
    "[1]: https://www.kaggle.com/cdeotte/customers-who-bought-this-frequently-buy-this\n",
    "[2]: https://www.kaggle.com/hiroshisakiyama/recommending-items-recently-bought"
   ]
  },
  {
   "cell_type": "code",
   "execution_count": 15,
   "id": "13500577",
   "metadata": {
    "execution": {
     "iopub.execute_input": "2022-03-04T02:47:39.405205Z",
     "iopub.status.busy": "2022-03-04T02:47:39.404529Z",
     "iopub.status.idle": "2022-03-04T02:47:39.622141Z",
     "shell.execute_reply": "2022-03-04T02:47:39.622634Z",
     "shell.execute_reply.started": "2022-03-04T02:30:26.34465Z"
    },
    "papermill": {
     "duration": 0.249201,
     "end_time": "2022-03-04T02:47:39.622789",
     "exception": false,
     "start_time": "2022-03-04T02:47:39.373588",
     "status": "completed"
    },
    "tags": []
   },
   "outputs": [],
   "source": [
    "# USE PANDAS TO MAP COLUMN WITH DICTIONARY\n",
    "import pandas as pd, numpy as np\n",
    "train = train.to_pandas()\n",
    "pairs = np.load('../input/hmitempairs/pairs_cudf.npy',allow_pickle=True).item()\n",
    "train['article_id2'] = train.article_id.map(pairs)"
   ]
  },
  {
   "cell_type": "code",
   "execution_count": 16,
   "id": "41a5a6f0",
   "metadata": {
    "execution": {
     "iopub.execute_input": "2022-03-04T02:47:39.683129Z",
     "iopub.status.busy": "2022-03-04T02:47:39.682272Z",
     "iopub.status.idle": "2022-03-04T02:47:39.710118Z",
     "shell.execute_reply": "2022-03-04T02:47:39.709633Z",
     "shell.execute_reply.started": "2022-03-04T02:30:26.346214Z"
    },
    "papermill": {
     "duration": 0.060877,
     "end_time": "2022-03-04T02:47:39.710259",
     "exception": false,
     "start_time": "2022-03-04T02:47:39.649382",
     "status": "completed"
    },
    "tags": []
   },
   "outputs": [],
   "source": [
    "# RECOMMENDATION OF PAIRED ITEMS\n",
    "train2 = train[['customer_id','article_id2']].copy()\n",
    "train2 = train2.loc[train2.article_id2.notnull()]\n",
    "train2 = train2.drop_duplicates(['customer_id','article_id2'])\n",
    "train2 = train2.rename({'article_id2':'article_id'},axis=1)"
   ]
  },
  {
   "cell_type": "code",
   "execution_count": 17,
   "id": "82a1bad8",
   "metadata": {
    "execution": {
     "iopub.execute_input": "2022-03-04T02:47:39.772485Z",
     "iopub.status.busy": "2022-03-04T02:47:39.768169Z",
     "iopub.status.idle": "2022-03-04T02:47:39.808713Z",
     "shell.execute_reply": "2022-03-04T02:47:39.809163Z",
     "shell.execute_reply.started": "2022-03-04T02:30:26.3482Z"
    },
    "papermill": {
     "duration": 0.072141,
     "end_time": "2022-03-04T02:47:39.809328",
     "exception": false,
     "start_time": "2022-03-04T02:47:39.737187",
     "status": "completed"
    },
    "tags": []
   },
   "outputs": [],
   "source": [
    "# CONCATENATE PAIRED ITEM RECOMMENDATION AFTER PREVIOUS PURCHASED RECOMMENDATIONS\n",
    "train = train[['customer_id','article_id']]\n",
    "train = pd.concat([train,train2],axis=0,ignore_index=True)\n",
    "train.article_id = train.article_id.astype('int32')\n",
    "train = train.drop_duplicates(['customer_id','article_id'])"
   ]
  },
  {
   "cell_type": "code",
   "execution_count": 18,
   "id": "871b3ea5",
   "metadata": {
    "execution": {
     "iopub.execute_input": "2022-03-04T02:47:39.868587Z",
     "iopub.status.busy": "2022-03-04T02:47:39.867778Z",
     "iopub.status.idle": "2022-03-04T02:47:40.399224Z",
     "shell.execute_reply": "2022-03-04T02:47:40.399622Z",
     "shell.execute_reply.started": "2022-03-04T02:30:26.349845Z"
    },
    "papermill": {
     "duration": 0.563742,
     "end_time": "2022-03-04T02:47:40.399779",
     "exception": false,
     "start_time": "2022-03-04T02:47:39.836037",
     "status": "completed"
    },
    "tags": []
   },
   "outputs": [
    {
     "data": {
      "text/html": [
       "<div>\n",
       "<style scoped>\n",
       "    .dataframe tbody tr th:only-of-type {\n",
       "        vertical-align: middle;\n",
       "    }\n",
       "\n",
       "    .dataframe tbody tr th {\n",
       "        vertical-align: top;\n",
       "    }\n",
       "\n",
       "    .dataframe thead th {\n",
       "        text-align: right;\n",
       "    }\n",
       "</style>\n",
       "<table border=\"1\" class=\"dataframe\">\n",
       "  <thead>\n",
       "    <tr style=\"text-align: right;\">\n",
       "      <th></th>\n",
       "      <th>customer_id</th>\n",
       "      <th>prediction</th>\n",
       "    </tr>\n",
       "  </thead>\n",
       "  <tbody>\n",
       "    <tr>\n",
       "      <th>0</th>\n",
       "      <td>-9223100958908512198</td>\n",
       "      <td>0673677024 0673677027 0785034009 0673677002 0...</td>\n",
       "    </tr>\n",
       "    <tr>\n",
       "      <th>1</th>\n",
       "      <td>-9223002534477110135</td>\n",
       "      <td>0793699001 0751542002</td>\n",
       "    </tr>\n",
       "    <tr>\n",
       "      <th>2</th>\n",
       "      <td>-9222810895170663723</td>\n",
       "      <td>0892309001 0903306004 0786187005</td>\n",
       "    </tr>\n",
       "    <tr>\n",
       "      <th>3</th>\n",
       "      <td>-9221924794303263774</td>\n",
       "      <td>0708138013 0888343003 0892857002 0741717002 0...</td>\n",
       "    </tr>\n",
       "    <tr>\n",
       "      <th>4</th>\n",
       "      <td>-9221811157628158522</td>\n",
       "      <td>0891663002 0706016001</td>\n",
       "    </tr>\n",
       "  </tbody>\n",
       "</table>\n",
       "</div>"
      ],
      "text/plain": [
       "           customer_id                                         prediction\n",
       "0 -9223100958908512198   0673677024 0673677027 0785034009 0673677002 0...\n",
       "1 -9223002534477110135                              0793699001 0751542002\n",
       "2 -9222810895170663723                   0892309001 0903306004 0786187005\n",
       "3 -9221924794303263774   0708138013 0888343003 0892857002 0741717002 0...\n",
       "4 -9221811157628158522                              0891663002 0706016001"
      ]
     },
     "execution_count": 18,
     "metadata": {},
     "output_type": "execute_result"
    }
   ],
   "source": [
    "# CONVERT RECOMMENDATIONS INTO SINGLE STRING\n",
    "train.article_id = ' 0' + train.article_id.astype('str')\n",
    "preds = cudf.DataFrame( train.groupby('customer_id').article_id.sum().reset_index() )\n",
    "preds.columns = ['customer_id','prediction']\n",
    "preds.head()"
   ]
  },
  {
   "cell_type": "markdown",
   "id": "9984b519",
   "metadata": {
    "papermill": {
     "duration": 0.026662,
     "end_time": "2022-03-04T02:47:40.453608",
     "exception": false,
     "start_time": "2022-03-04T02:47:40.426946",
     "status": "completed"
    },
    "tags": []
   },
   "source": [
    "# (3) Recommend Last Week's Most Popular Items\n",
    "After recommending previous purchases and items purchased together we will then recommend the 12 most popular items. Therefore if our previous recommendations did not fill up a customer's 12 recommendations, then it will be filled by popular items."
   ]
  },
  {
   "cell_type": "code",
   "execution_count": 19,
   "id": "371034a8",
   "metadata": {
    "execution": {
     "iopub.execute_input": "2022-03-04T02:47:40.515916Z",
     "iopub.status.busy": "2022-03-04T02:47:40.515340Z",
     "iopub.status.idle": "2022-03-04T02:47:40.760833Z",
     "shell.execute_reply": "2022-03-04T02:47:40.761903Z",
     "shell.execute_reply.started": "2022-03-04T02:30:26.351446Z"
    },
    "papermill": {
     "duration": 0.281773,
     "end_time": "2022-03-04T02:47:40.762118",
     "exception": false,
     "start_time": "2022-03-04T02:47:40.480345",
     "status": "completed"
    },
    "tags": []
   },
   "outputs": [
    {
     "name": "stdout",
     "output_type": "stream",
     "text": [
      "Last week's top 12 popular items:\n",
      " 0924243001 0924243002 0918522001 0923758001 0866731001 0909370001 0751471001 0915529003 0915529005 0448509014 0762846027 0714790020\n"
     ]
    }
   ],
   "source": [
    "train = cudf.read_parquet('train.pqt')\n",
    "train.t_dat = cudf.to_datetime(train.t_dat)\n",
    "train = train.loc[train.t_dat >= cudf.to_datetime('2020-09-16')]\n",
    "top12 = ' 0' + ' 0'.join(train.article_id.value_counts().to_pandas().index.astype('str')[:12])\n",
    "print(\"Last week's top 12 popular items:\")\n",
    "print( top12 )"
   ]
  },
  {
   "cell_type": "markdown",
   "id": "801949db",
   "metadata": {
    "papermill": {
     "duration": 0.026926,
     "end_time": "2022-03-04T02:47:40.816663",
     "exception": false,
     "start_time": "2022-03-04T02:47:40.789737",
     "status": "completed"
    },
    "tags": []
   },
   "source": [
    "# Write Submission CSV\n",
    "We will merge our predictions onto `sample_submission.csv` and submit to Kaggle."
   ]
  },
  {
   "cell_type": "code",
   "execution_count": 20,
   "id": "63bcc557",
   "metadata": {
    "execution": {
     "iopub.execute_input": "2022-03-04T02:47:40.877858Z",
     "iopub.status.busy": "2022-03-04T02:47:40.877094Z",
     "iopub.status.idle": "2022-03-04T02:47:45.231467Z",
     "shell.execute_reply": "2022-03-04T02:47:45.230552Z",
     "shell.execute_reply.started": "2022-03-04T02:30:26.353103Z"
    },
    "papermill": {
     "duration": 4.387962,
     "end_time": "2022-03-04T02:47:45.231606",
     "exception": false,
     "start_time": "2022-03-04T02:47:40.843644",
     "status": "completed"
    },
    "tags": []
   },
   "outputs": [
    {
     "data": {
      "text/html": [
       "<div>\n",
       "<style scoped>\n",
       "    .dataframe tbody tr th:only-of-type {\n",
       "        vertical-align: middle;\n",
       "    }\n",
       "\n",
       "    .dataframe tbody tr th {\n",
       "        vertical-align: top;\n",
       "    }\n",
       "\n",
       "    .dataframe thead th {\n",
       "        text-align: right;\n",
       "    }\n",
       "</style>\n",
       "<table border=\"1\" class=\"dataframe\">\n",
       "  <thead>\n",
       "    <tr style=\"text-align: right;\">\n",
       "      <th></th>\n",
       "      <th>customer_id</th>\n",
       "      <th>prediction</th>\n",
       "    </tr>\n",
       "  </thead>\n",
       "  <tbody>\n",
       "    <tr>\n",
       "      <th>0</th>\n",
       "      <td>05be41580b991a22161251772826cc5af70fa38934c4a6...</td>\n",
       "      <td>0924243001 0924243002 0918522001 0923758001 08...</td>\n",
       "    </tr>\n",
       "    <tr>\n",
       "      <th>1</th>\n",
       "      <td>05bec9be7763c4f39aee019dd69dcf28ba0cacd194265b...</td>\n",
       "      <td>0924243001 0924243002 0918522001 0923758001 08...</td>\n",
       "    </tr>\n",
       "    <tr>\n",
       "      <th>2</th>\n",
       "      <td>05be821cc84fc5456e4b90d91e4084eab042c16c9bd5b7...</td>\n",
       "      <td>0924243001 0924243002 0918522001 0923758001 08...</td>\n",
       "    </tr>\n",
       "    <tr>\n",
       "      <th>3</th>\n",
       "      <td>05bf624b54514f043700e5d379f1921fd8866be5be0c35...</td>\n",
       "      <td>0924243001 0924243002 0918522001 0923758001 08...</td>\n",
       "    </tr>\n",
       "    <tr>\n",
       "      <th>4</th>\n",
       "      <td>05be47081cf99b5c4106d92ae4521030fb65e89ed7ad0a...</td>\n",
       "      <td>0924243001 0924243002 0918522001 0923758001 08...</td>\n",
       "    </tr>\n",
       "  </tbody>\n",
       "</table>\n",
       "</div>"
      ],
      "text/plain": [
       "                                         customer_id  \\\n",
       "0  05be41580b991a22161251772826cc5af70fa38934c4a6...   \n",
       "1  05bec9be7763c4f39aee019dd69dcf28ba0cacd194265b...   \n",
       "2  05be821cc84fc5456e4b90d91e4084eab042c16c9bd5b7...   \n",
       "3  05bf624b54514f043700e5d379f1921fd8866be5be0c35...   \n",
       "4  05be47081cf99b5c4106d92ae4521030fb65e89ed7ad0a...   \n",
       "\n",
       "                                          prediction  \n",
       "0  0924243001 0924243002 0918522001 0923758001 08...  \n",
       "1  0924243001 0924243002 0918522001 0923758001 08...  \n",
       "2  0924243001 0924243002 0918522001 0923758001 08...  \n",
       "3  0924243001 0924243002 0918522001 0923758001 08...  \n",
       "4  0924243001 0924243002 0918522001 0923758001 08...  "
      ]
     },
     "execution_count": 20,
     "metadata": {},
     "output_type": "execute_result"
    }
   ],
   "source": [
    "sub = cudf.read_csv('../input/h-and-m-personalized-fashion-recommendations/sample_submission.csv')\n",
    "sub = sub[['customer_id']]\n",
    "sub['customer_id_2'] = sub['customer_id'].str[-16:].str.hex_to_int().astype('int64')\n",
    "sub = sub.merge(preds.rename({'customer_id':'customer_id_2'},axis=1),\\\n",
    "    on='customer_id_2', how='left').fillna('')\n",
    "del sub['customer_id_2']\n",
    "sub.prediction = sub.prediction + top12\n",
    "sub.prediction = sub.prediction.str.strip()\n",
    "sub.prediction = sub.prediction.str[:131]\n",
    "sub.to_csv(f'submission.csv',index=False)\n",
    "sub.head()"
   ]
  }
 ],
 "metadata": {
  "kernelspec": {
   "display_name": "Python 3",
   "language": "python",
   "name": "python3"
  },
  "language_info": {
   "codemirror_mode": {
    "name": "ipython",
    "version": 3
   },
   "file_extension": ".py",
   "mimetype": "text/x-python",
   "name": "python",
   "nbconvert_exporter": "python",
   "pygments_lexer": "ipython3",
   "version": "3.7.12"
  },
  "papermill": {
   "default_parameters": {},
   "duration": 67.225029,
   "end_time": "2022-03-04T02:47:46.913387",
   "environment_variables": {},
   "exception": null,
   "input_path": "__notebook__.ipynb",
   "output_path": "__notebook__.ipynb",
   "parameters": {},
   "start_time": "2022-03-04T02:46:39.688358",
   "version": "2.3.3"
  }
 },
 "nbformat": 4,
 "nbformat_minor": 5
}
